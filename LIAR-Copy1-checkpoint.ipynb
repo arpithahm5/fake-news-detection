{
 "cells": [
  {
   "cell_type": "code",
   "execution_count": 27,
   "metadata": {},
   "outputs": [],
   "source": [
    "import pandas as pd\n",
    "import json\n",
    "import re\n",
    "import matplotlib.pyplot as plt\n",
    "from sklearn import metrics\n",
    "import numpy as np\n",
    "import itertools\n",
    "from nltk.corpus import stopwords\n",
    "from nltk.stem.porter import PorterStemmer\n",
    "from nltk.probability import FreqDist\n",
    "from sklearn.linear_model import LogisticRegression, PassiveAggressiveClassifier\n",
    "from nltk.stem import WordNetLemmatizer \n",
    "from PIL import Image\n",
    "from wordcloud import WordCloud, STOPWORDS, ImageColorGenerator\n",
    "from sklearn.feature_extraction.text import TfidfVectorizer\n",
    "from sklearn.naive_bayes import MultinomialNB \n",
    "from sklearn import svm\n",
    "from sklearn.metrics import f1_score"
   ]
  },
  {
   "cell_type": "code",
   "execution_count": 2,
   "metadata": {},
   "outputs": [],
   "source": [
    "#train data\n",
    "train_tweets = []\n",
    "\n",
    "for line in open(r'C:\\Users\\Dell\\Desktop\\train.json','r'):\n",
    "    train_tweets.append(json.loads(line))\n",
    "    \n",
    "#test data\n",
    "test_tweets = []\n",
    "\n",
    "for line in open(r'C:\\Users\\Dell\\Desktop\\test.json', 'r'):\n",
    "    test_tweets.append(json.loads(line))\n",
    "    \n",
    "#validation data\n",
    "validation_tweets = []\n",
    "\n",
    "for line in open(r'C:\\Users\\Dell\\Desktop\\val.json','r'):\n",
    "    validation_tweets.append(json.loads(line))"
   ]
  },
  {
   "cell_type": "code",
   "execution_count": 1,
   "metadata": {},
   "outputs": [],
   "source": [
    "#train_tweets"
   ]
  },
  {
   "cell_type": "code",
   "execution_count": 3,
   "metadata": {},
   "outputs": [],
   "source": [
    "#converting to dataframes\n",
    "\n",
    "train_df = pd.DataFrame(train_tweets)\n",
    "validation_df = pd.DataFrame(validation_tweets)\n",
    "test_df = pd.DataFrame(test_tweets)"
   ]
  },
  {
   "cell_type": "code",
   "execution_count": 4,
   "metadata": {},
   "outputs": [],
   "source": [
    "train_df.drop(['json_file_id','id'], axis=1, inplace=True)\n",
    "validation_df.drop(['json_file_id','id'], axis=1, inplace=True)\n",
    "test_df.drop(['json_file_id','id'], axis=1, inplace=True)"
   ]
  },
  {
   "cell_type": "code",
   "execution_count": 5,
   "metadata": {},
   "outputs": [
    {
     "name": "stdout",
     "output_type": "stream",
     "text": [
      "10269\n",
      "1284\n",
      "1283\n"
     ]
    }
   ],
   "source": [
    "# length of dataset \n",
    "print(len(train_df))\n",
    "print(len(validation_df))\n",
    "print(len(test_df))"
   ]
  },
  {
   "cell_type": "code",
   "execution_count": 7,
   "metadata": {},
   "outputs": [
    {
     "data": {
      "text/html": [
       "<div>\n",
       "<style scoped>\n",
       "    .dataframe tbody tr th:only-of-type {\n",
       "        vertical-align: middle;\n",
       "    }\n",
       "\n",
       "    .dataframe tbody tr th {\n",
       "        vertical-align: top;\n",
       "    }\n",
       "\n",
       "    .dataframe thead th {\n",
       "        text-align: right;\n",
       "    }\n",
       "</style>\n",
       "<table border=\"1\" class=\"dataframe\">\n",
       "  <thead>\n",
       "    <tr style=\"text-align: right;\">\n",
       "      <th></th>\n",
       "      <th>claim</th>\n",
       "      <th>justification</th>\n",
       "      <th>label</th>\n",
       "      <th>originator</th>\n",
       "      <th>party</th>\n",
       "      <th>title</th>\n",
       "      <th>topics</th>\n",
       "    </tr>\n",
       "  </thead>\n",
       "  <tbody>\n",
       "    <tr>\n",
       "      <th>0</th>\n",
       "      <td>Says the Annies List political group supports ...</td>\n",
       "      <td>That's a premise that he fails to back up. Ann...</td>\n",
       "      <td>false</td>\n",
       "      <td>dwayne-bohac</td>\n",
       "      <td>Texas</td>\n",
       "      <td>State representative</td>\n",
       "      <td>[abortion]</td>\n",
       "    </tr>\n",
       "    <tr>\n",
       "      <th>1</th>\n",
       "      <td>When did the decline of coal start? It started...</td>\n",
       "      <td>\"Surovell said the decline of coal \"\"started w...</td>\n",
       "      <td>half-true</td>\n",
       "      <td>scott-surovell</td>\n",
       "      <td>Virginia</td>\n",
       "      <td>State delegate</td>\n",
       "      <td>[energy, history, job-accomplishments]</td>\n",
       "    </tr>\n",
       "    <tr>\n",
       "      <th>2</th>\n",
       "      <td>\"Hillary Clinton agrees with John McCain \"\"by ...</td>\n",
       "      <td>\"Obama said he would have voted against the am...</td>\n",
       "      <td>mostly-true</td>\n",
       "      <td>barack-obama</td>\n",
       "      <td>Illinois</td>\n",
       "      <td>President</td>\n",
       "      <td>[foreign-policy]</td>\n",
       "    </tr>\n",
       "    <tr>\n",
       "      <th>3</th>\n",
       "      <td>Health care reform legislation is likely to ma...</td>\n",
       "      <td>\"The release may have a point that Mikulskis c...</td>\n",
       "      <td>false</td>\n",
       "      <td>blog-posting</td>\n",
       "      <td></td>\n",
       "      <td></td>\n",
       "      <td>[health-care]</td>\n",
       "    </tr>\n",
       "    <tr>\n",
       "      <th>4</th>\n",
       "      <td>The economic turnaround started at the end of ...</td>\n",
       "      <td>\"Crist said that the economic \"\"turnaround sta...</td>\n",
       "      <td>half-true</td>\n",
       "      <td>charlie-crist</td>\n",
       "      <td>Florida</td>\n",
       "      <td></td>\n",
       "      <td>[economy, jobs]</td>\n",
       "    </tr>\n",
       "  </tbody>\n",
       "</table>\n",
       "</div>"
      ],
      "text/plain": [
       "                                               claim  \\\n",
       "0  Says the Annies List political group supports ...   \n",
       "1  When did the decline of coal start? It started...   \n",
       "2  \"Hillary Clinton agrees with John McCain \"\"by ...   \n",
       "3  Health care reform legislation is likely to ma...   \n",
       "4  The economic turnaround started at the end of ...   \n",
       "\n",
       "                                       justification        label  \\\n",
       "0  That's a premise that he fails to back up. Ann...        false   \n",
       "1  \"Surovell said the decline of coal \"\"started w...    half-true   \n",
       "2  \"Obama said he would have voted against the am...  mostly-true   \n",
       "3  \"The release may have a point that Mikulskis c...        false   \n",
       "4  \"Crist said that the economic \"\"turnaround sta...    half-true   \n",
       "\n",
       "       originator     party                 title  \\\n",
       "0    dwayne-bohac     Texas  State representative   \n",
       "1  scott-surovell  Virginia        State delegate   \n",
       "2    barack-obama  Illinois             President   \n",
       "3    blog-posting                                   \n",
       "4   charlie-crist   Florida                         \n",
       "\n",
       "                                   topics  \n",
       "0                              [abortion]  \n",
       "1  [energy, history, job-accomplishments]  \n",
       "2                        [foreign-policy]  \n",
       "3                           [health-care]  \n",
       "4                         [economy, jobs]  "
      ]
     },
     "execution_count": 7,
     "metadata": {},
     "output_type": "execute_result"
    }
   ],
   "source": [
    "train_df.head()\n"
   ]
  },
  {
   "cell_type": "code",
   "execution_count": 8,
   "metadata": {},
   "outputs": [
    {
     "data": {
      "text/html": [
       "<div>\n",
       "<style scoped>\n",
       "    .dataframe tbody tr th:only-of-type {\n",
       "        vertical-align: middle;\n",
       "    }\n",
       "\n",
       "    .dataframe tbody tr th {\n",
       "        vertical-align: top;\n",
       "    }\n",
       "\n",
       "    .dataframe thead th {\n",
       "        text-align: right;\n",
       "    }\n",
       "</style>\n",
       "<table border=\"1\" class=\"dataframe\">\n",
       "  <thead>\n",
       "    <tr style=\"text-align: right;\">\n",
       "      <th></th>\n",
       "      <th>claim</th>\n",
       "      <th>justification</th>\n",
       "      <th>label</th>\n",
       "      <th>originator</th>\n",
       "      <th>party</th>\n",
       "      <th>title</th>\n",
       "      <th>topics</th>\n",
       "    </tr>\n",
       "  </thead>\n",
       "  <tbody>\n",
       "    <tr>\n",
       "      <th>10264</th>\n",
       "      <td>There are a larger number of shark attacks in ...</td>\n",
       "      <td>They compounded their error by combining full ...</td>\n",
       "      <td>mostly-true</td>\n",
       "      <td>aclu-florida</td>\n",
       "      <td>Florida</td>\n",
       "      <td></td>\n",
       "      <td>[animals, elections]</td>\n",
       "    </tr>\n",
       "    <tr>\n",
       "      <th>10265</th>\n",
       "      <td>Democrats have now become the party of the [At...</td>\n",
       "      <td>\"Romney said that \"\"Obamacare  means that for ...</td>\n",
       "      <td>mostly-true</td>\n",
       "      <td>alan-powell</td>\n",
       "      <td>Georgia</td>\n",
       "      <td></td>\n",
       "      <td>[elections]</td>\n",
       "    </tr>\n",
       "    <tr>\n",
       "      <th>10266</th>\n",
       "      <td>Says an alternative to Social Security that op...</td>\n",
       "      <td>\"But that it leaves out important details and ...</td>\n",
       "      <td>half-true</td>\n",
       "      <td>herman-cain</td>\n",
       "      <td>Georgia</td>\n",
       "      <td></td>\n",
       "      <td>[retirement, social-security]</td>\n",
       "    </tr>\n",
       "    <tr>\n",
       "      <th>10267</th>\n",
       "      <td>On lifting the U.S. Cuban embargo and allowing...</td>\n",
       "      <td>We checked the research and, quite frankly, fi...</td>\n",
       "      <td>false</td>\n",
       "      <td>jeff-greene</td>\n",
       "      <td>Florida</td>\n",
       "      <td></td>\n",
       "      <td>[florida, foreign-policy]</td>\n",
       "    </tr>\n",
       "    <tr>\n",
       "      <th>10268</th>\n",
       "      <td>The Department of Veterans Affairs has a manua...</td>\n",
       "      <td>\"Krueger said that \"\"since the Affordable Care...</td>\n",
       "      <td>pants-fire</td>\n",
       "      <td>michael-steele</td>\n",
       "      <td>Maryland</td>\n",
       "      <td>chairman of the Republican National Committee</td>\n",
       "      <td>[health-care, veterans]</td>\n",
       "    </tr>\n",
       "  </tbody>\n",
       "</table>\n",
       "</div>"
      ],
      "text/plain": [
       "                                                   claim  \\\n",
       "10264  There are a larger number of shark attacks in ...   \n",
       "10265  Democrats have now become the party of the [At...   \n",
       "10266  Says an alternative to Social Security that op...   \n",
       "10267  On lifting the U.S. Cuban embargo and allowing...   \n",
       "10268  The Department of Veterans Affairs has a manua...   \n",
       "\n",
       "                                           justification        label  \\\n",
       "10264  They compounded their error by combining full ...  mostly-true   \n",
       "10265  \"Romney said that \"\"Obamacare  means that for ...  mostly-true   \n",
       "10266  \"But that it leaves out important details and ...    half-true   \n",
       "10267  We checked the research and, quite frankly, fi...        false   \n",
       "10268  \"Krueger said that \"\"since the Affordable Care...   pants-fire   \n",
       "\n",
       "           originator     party  \\\n",
       "10264    aclu-florida   Florida   \n",
       "10265     alan-powell   Georgia   \n",
       "10266     herman-cain   Georgia   \n",
       "10267     jeff-greene   Florida   \n",
       "10268  michael-steele  Maryland   \n",
       "\n",
       "                                               title  \\\n",
       "10264                                                  \n",
       "10265                                                  \n",
       "10266                                                  \n",
       "10267                                                  \n",
       "10268  chairman of the Republican National Committee   \n",
       "\n",
       "                              topics  \n",
       "10264           [animals, elections]  \n",
       "10265                    [elections]  \n",
       "10266  [retirement, social-security]  \n",
       "10267      [florida, foreign-policy]  \n",
       "10268        [health-care, veterans]  "
      ]
     },
     "execution_count": 8,
     "metadata": {},
     "output_type": "execute_result"
    }
   ],
   "source": [
    "train_df.tail()"
   ]
  },
  {
   "cell_type": "code",
   "execution_count": 6,
   "metadata": {},
   "outputs": [],
   "source": [
    "train_df = train_df.replace(to_replace = '', value = np.nan)"
   ]
  },
  {
   "cell_type": "code",
   "execution_count": 7,
   "metadata": {},
   "outputs": [
    {
     "data": {
      "text/plain": [
       "claim               0\n",
       "justification      31\n",
       "label               0\n",
       "originator          0\n",
       "party            2209\n",
       "title            2901\n",
       "topics              0\n",
       "dtype: int64"
      ]
     },
     "execution_count": 7,
     "metadata": {},
     "output_type": "execute_result"
    }
   ],
   "source": [
    "train_df.isnull().sum()"
   ]
  },
  {
   "cell_type": "code",
   "execution_count": 8,
   "metadata": {},
   "outputs": [
    {
     "name": "stdout",
     "output_type": "stream",
     "text": [
      "(10269, 7)\n",
      "(1284, 7)\n",
      "(1283, 7)\n"
     ]
    }
   ],
   "source": [
    "print(train_df.shape)\n",
    "print(validation_df.shape)\n",
    "print(test_df.shape)"
   ]
  },
  {
   "cell_type": "code",
   "execution_count": 12,
   "metadata": {},
   "outputs": [],
   "source": [
    "# print(train_df['claim'][6846])\n",
    "# print(train_df['claim'][7150])"
   ]
  },
  {
   "cell_type": "code",
   "execution_count": 13,
   "metadata": {},
   "outputs": [],
   "source": [
    "# a =  train_df[(train_df['title'] =='governor')& (train_df['label'] == 'false')]\n",
    "# b =  train_df[(train_df['title'] =='governor')& (train_df['label'] == 'true')]"
   ]
  },
  {
   "cell_type": "code",
   "execution_count": 14,
   "metadata": {},
   "outputs": [],
   "source": [
    "# text = str(a['claim'])\n",
    "# text1 = str(b['claim'])"
   ]
  },
  {
   "cell_type": "code",
   "execution_count": 15,
   "metadata": {},
   "outputs": [],
   "source": [
    "# wordcloud = WordCloud(max_font_size=50, stopwords= 'english', max_words=200, background_color=\"white\").generate(text)\n",
    "# plt.figure()\n",
    "# plt.imshow(wordcloud, interpolation=\"bilinear\")\n",
    "# plt.axis(\"off\")\n",
    "# plt.show()"
   ]
  },
  {
   "cell_type": "code",
   "execution_count": 16,
   "metadata": {},
   "outputs": [],
   "source": [
    "# wordcloud = WordCloud(max_font_size=50, stopwords = 'english', max_words=200, background_color=\"white\").generate(text1)\n",
    "# plt.figure()\n",
    "# plt.imshow(wordcloud, interpolation=\"bilinear\")\n",
    "# plt.axis(\"off\")\n",
    "# plt.show()"
   ]
  },
  {
   "cell_type": "code",
   "execution_count": 17,
   "metadata": {},
   "outputs": [],
   "source": [
    "# wordcloud = WordCloud(max_font_size=50, max_words=200, background_color=\"white\").generate(text1)\n",
    "# plt.figure()\n",
    "# plt.imshow(wordcloud, interpolation=\"bilinear\")\n",
    "# plt.axis(\"off\")\n",
    "# plt.show()"
   ]
  },
  {
   "cell_type": "code",
   "execution_count": 18,
   "metadata": {},
   "outputs": [],
   "source": [
    "#train_df['title'].value_counts()"
   ]
  },
  {
   "cell_type": "code",
   "execution_count": 9,
   "metadata": {},
   "outputs": [],
   "source": [
    "#combining claim and justification\n",
    "\n",
    "train_df['new'] = train_df['claim'].map(str) + train_df['justification'].map(str)\n",
    "validation_df['new'] = validation_df['claim'].map(str) + validation_df['justification'].map(str)\n",
    "test_df['new'] = test_df['claim'].map(str) + test_df['justification'].map(str)"
   ]
  },
  {
   "cell_type": "code",
   "execution_count": 10,
   "metadata": {},
   "outputs": [
    {
     "data": {
      "text/plain": [
       "Index(['claim', 'justification', 'label', 'originator', 'party', 'title',\n",
       "       'topics', 'new'],\n",
       "      dtype='object')"
      ]
     },
     "execution_count": 10,
     "metadata": {},
     "output_type": "execute_result"
    }
   ],
   "source": [
    "train_df.columns"
   ]
  },
  {
   "cell_type": "code",
   "execution_count": 11,
   "metadata": {},
   "outputs": [
    {
     "data": {
      "text/plain": [
       "half-true      2123\n",
       "false          1998\n",
       "mostly-true    1966\n",
       "true           1683\n",
       "barely-true    1657\n",
       "pants-fire      842\n",
       "Name: label, dtype: int64"
      ]
     },
     "execution_count": 11,
     "metadata": {},
     "output_type": "execute_result"
    }
   ],
   "source": [
    "train_df['label'].value_counts()"
   ]
  },
  {
   "cell_type": "markdown",
   "metadata": {},
   "source": [
    "FOR CLAIM"
   ]
  },
  {
   "cell_type": "code",
   "execution_count": 12,
   "metadata": {},
   "outputs": [],
   "source": [
    "#cleaning the data and generating corpus for only claims\n",
    "\n",
    "stop_words = set(stopwords.words(\"english\"))\n",
    "ps = PorterStemmer()\n",
    "lemmatizer = WordNetLemmatizer() \n",
    "claim_train_corpus = []\n",
    "claim_train_corpus = []\n",
    "\n",
    "for i in range(0, len(train_df['claim'])):\n",
    "    new_data = re.sub('[^a-zA-Z]',\" \", train_df['claim'][i])\n",
    "    new_data = new_data.lower()\n",
    "    new_data = new_data.split()\n",
    "    \n",
    "    new_data = [lemmatizer.lemmatize(word) for word in new_data if not word in stop_words]\n",
    "    new_data = ' '.join(new_data)\n",
    "    claim_train_corpus.append(new_data)\n",
    "    \n",
    "claim_val_corpus = []\n",
    "for i in range(0, len(validation_df['claim'])):\n",
    "    new_data = re.sub('[^a-zA-Z]',\" \", validation_df['claim'][i])\n",
    "    new_data = new_data.lower()\n",
    "    new_data = new_data.split()\n",
    "    \n",
    "    new_data = [lemmatizer.lemmatize(word) for word in new_data if not word in stop_words]\n",
    "    new_data = ' '.join(new_data)\n",
    "    claim_val_corpus.append(new_data)\n",
    "    \n",
    "claim_test_corpus = []\n",
    "for i in range(0, len(test_df['claim'])):\n",
    "    new_data = re.sub('[^a-zA-Z]',\" \", test_df['claim'][i])\n",
    "    new_data = new_data.lower()\n",
    "    new_data = new_data.split()\n",
    "    \n",
    "    new_data = [lemmatizer.lemmatize(word) for word in new_data if not word in stop_words]\n",
    "    new_data = ' '.join(new_data)\n",
    "    claim_test_corpus.append(new_data)"
   ]
  },
  {
   "cell_type": "code",
   "execution_count": 23,
   "metadata": {},
   "outputs": [],
   "source": [
    "# import matplotlib.pyplot as plt\n",
    "# def plot_confusion_matrix(cm, classes,\n",
    "#                           normalize=False,\n",
    "#                           title='Confusion matrix',\n",
    "#                           cmap=plt.cm.Blues):\n",
    "#     plt.imshow(cm, interpolation='nearest', cmap=cmap)\n",
    "#     plt.title(title)\n",
    "#     plt.colorbar()\n",
    "#     tick_marks = np.arange(len(classes))\n",
    "#     plt.xticks(tick_marks, classes, rotation=45)\n",
    "#     plt.yticks(tick_marks, classes)\n",
    "\n",
    "#     if normalize:\n",
    "#         cm = cm.astype('float') / cm.sum(axis=1)[:, np.newaxis]\n",
    "#         print(\"Normalized confusion matrix\")\n",
    "#     else:\n",
    "#         print('Confusion matrix, without normalization')\n",
    "\n",
    "#     thresh = cm.max() / 2.\n",
    "#     for i, j in itertools.product(range(cm.shape[0]), range(cm.shape[1])):\n",
    "#         plt.text(j, i, cm[i, j],\n",
    "#                  horizontalalignment=\"center\",\n",
    "#                  color=\"white\" if cm[i, j] > thresh else \"black\")\n",
    "\n",
    "#     plt.tight_layout()\n",
    "#     plt.ylabel('True label')\n",
    "#     plt.xlabel('Predicted label')"
   ]
  },
  {
   "cell_type": "markdown",
   "metadata": {},
   "source": [
    "FOR NEW"
   ]
  },
  {
   "cell_type": "code",
   "execution_count": 13,
   "metadata": {},
   "outputs": [],
   "source": [
    "#cleaning the data and generating corpus for new\n",
    "\n",
    "train_corpus = []\n",
    "validation_corpus = []\n",
    "test_corpus = []\n",
    "\n",
    "for i in range(0, len(train_df['new'])):\n",
    "    new_data = re.sub('[^a-zA-Z]',\" \", train_df['new'][i])\n",
    "    new_data = new_data.lower()\n",
    "    new_data = new_data.split()\n",
    "    \n",
    "    new_data = [lemmatizer.lemmatize(word) for word in new_data if not word in stop_words]\n",
    "    new_data = ' '.join(new_data)\n",
    "    train_corpus.append(new_data)\n",
    "    \n",
    "for i in range(0, len(validation_df['new'])):\n",
    "    new_data = re.sub('[^a-zA-Z]',\" \", validation_df['new'][i])\n",
    "    new_data = new_data.lower()\n",
    "    new_data = new_data.split()\n",
    "    \n",
    "    new_data = [lemmatizer.lemmatize(word) for word in new_data if not word in stop_words]\n",
    "    new_data = ' '.join(new_data)\n",
    "    validation_corpus.append(new_data)\n",
    "    \n",
    "for i in range(0, len(test_df['new'])):\n",
    "    new_data = re.sub('[^a-zA-Z]',\" \", test_df['new'][i])\n",
    "    new_data = new_data.lower()\n",
    "    new_data = new_data.split()\n",
    "    \n",
    "    new_data = [lemmatizer.lemmatize(word) for word in new_data if not word in stop_words]\n",
    "    new_data = ' '.join(new_data)\n",
    "    test_corpus.append(new_data)"
   ]
  },
  {
   "cell_type": "code",
   "execution_count": 2,
   "metadata": {},
   "outputs": [],
   "source": [
    "#train_corpus"
   ]
  },
  {
   "cell_type": "markdown",
   "metadata": {},
   "source": [
    "# BINARY CLASSIFICATION"
   ]
  },
  {
   "cell_type": "code",
   "execution_count": 14,
   "metadata": {},
   "outputs": [],
   "source": [
    "#grouping mostly-true, half-true, true label under true\n",
    "#grouping barely-true, pants-fire, false label under false\n",
    "\n",
    "for i in range(len(train_df['label'])):\n",
    "    train_df['label'].replace(['mostly-true','half-true'], 'true', regex=True, inplace=True)\n",
    "    train_df['label'].replace(['barely-true','pants-fire'], 'false', regex=True, inplace=True)\n",
    "    \n",
    "for i in range(len(validation_df['label'])):\n",
    "    validation_df['label'].replace(['mostly-true','half-true'], 'true', regex=True, inplace=True)\n",
    "    validation_df['label'].replace(['barely-true','pants-fire'], 'false', regex=True, inplace=True)\n",
    "    \n",
    "for i in range(len(test_df['label'])):\n",
    "    test_df['label'].replace(['mostly-true','half-true'], 'true', regex=True, inplace=True)\n",
    "    test_df['label'].replace(['barely-true','pants-fire'], 'false', regex=True, inplace=True)     "
   ]
  },
  {
   "cell_type": "code",
   "execution_count": 15,
   "metadata": {},
   "outputs": [
    {
     "data": {
      "text/plain": [
       "true     5772\n",
       "false    4497\n",
       "Name: label, dtype: int64"
      ]
     },
     "execution_count": 15,
     "metadata": {},
     "output_type": "execute_result"
    }
   ],
   "source": [
    "#counting the number of true and false labels\n",
    "\n",
    "train_df['label'].value_counts()"
   ]
  },
  {
   "cell_type": "code",
   "execution_count": 16,
   "metadata": {},
   "outputs": [],
   "source": [
    "y_train = pd.get_dummies(train_df['label'], drop_first=True)\n",
    "y_validation = pd.get_dummies(validation_df['label'], drop_first=True)\n",
    "y_test = pd.get_dummies(test_df['label'], drop_first=True)"
   ]
  },
  {
   "cell_type": "markdown",
   "metadata": {},
   "source": [
    "# USING TF-IDF"
   ]
  },
  {
   "cell_type": "code",
   "execution_count": 17,
   "metadata": {},
   "outputs": [],
   "source": [
    "#tfidf for new for bigram\n",
    "\n",
    "vectorizer = TfidfVectorizer()\n",
    "tfidf = vectorizer.fit_transform(train_corpus).toarray()\n",
    "tfidf_validation = vectorizer.transform(validation_corpus).toarray()\n",
    "tfidf_test = vectorizer.transform(test_corpus).toarray()"
   ]
  },
  {
   "cell_type": "code",
   "execution_count": 18,
   "metadata": {},
   "outputs": [
    {
     "name": "stdout",
     "output_type": "stream",
     "text": [
      "(10269, 20568)\n",
      "(1284, 20568)\n",
      "(1283, 20568)\n",
      "(10269, 1)\n"
     ]
    }
   ],
   "source": [
    "print(tfidf.shape)\n",
    "print(tfidf_validation.shape)\n",
    "print(tfidf_test.shape)\n",
    "print(y_train.shape)"
   ]
  },
  {
   "cell_type": "markdown",
   "metadata": {},
   "source": [
    "Logistic Regression"
   ]
  },
  {
   "cell_type": "code",
   "execution_count": 19,
   "metadata": {},
   "outputs": [
    {
     "name": "stderr",
     "output_type": "stream",
     "text": [
      "C:\\Users\\Dell\\Anaconda3\\lib\\site-packages\\sklearn\\linear_model\\logistic.py:432: FutureWarning: Default solver will be changed to 'lbfgs' in 0.22. Specify a solver to silence this warning.\n",
      "  FutureWarning)\n",
      "C:\\Users\\Dell\\Anaconda3\\lib\\site-packages\\sklearn\\utils\\validation.py:724: DataConversionWarning: A column-vector y was passed when a 1d array was expected. Please change the shape of y to (n_samples, ), for example using ravel().\n",
      "  y = column_or_1d(y, warn=True)\n"
     ]
    },
    {
     "data": {
      "text/plain": [
       "LogisticRegression(C=1.0, class_weight=None, dual=False, fit_intercept=True,\n",
       "                   intercept_scaling=1, l1_ratio=None, max_iter=100,\n",
       "                   multi_class='warn', n_jobs=None, penalty='l2',\n",
       "                   random_state=None, solver='warn', tol=0.0001, verbose=0,\n",
       "                   warm_start=False)"
      ]
     },
     "execution_count": 19,
     "metadata": {},
     "output_type": "execute_result"
    }
   ],
   "source": [
    "new_tfidf_clf = LogisticRegression()\n",
    "new_tfidf_clf.fit(tfidf, y_train)"
   ]
  },
  {
   "cell_type": "code",
   "execution_count": 38,
   "metadata": {},
   "outputs": [
    {
     "name": "stdout",
     "output_type": "stream",
     "text": [
      "              precision    recall  f1-score   support\n",
      "\n",
      "           0       0.65      0.40      0.50       616\n",
      "           1       0.59      0.80      0.68       668\n",
      "\n",
      "    accuracy                           0.61      1284\n",
      "   macro avg       0.62      0.60      0.59      1284\n",
      "weighted avg       0.62      0.61      0.59      1284\n",
      "\n",
      "              precision    recall  f1-score   support\n",
      "\n",
      "           0       0.53      0.36      0.43       556\n",
      "           1       0.61      0.75      0.67       727\n",
      "\n",
      "    accuracy                           0.58      1283\n",
      "   macro avg       0.57      0.56      0.55      1283\n",
      "weighted avg       0.57      0.58      0.57      1283\n",
      "\n"
     ]
    }
   ],
   "source": [
    "pred1 = new_tfidf_clf.predict(tfidf_validation)\n",
    "pred2 = new_tfidf_clf.predict(tfidf_test)\n",
    "score1 = metrics.accuracy_score(y_validation, pred1)\n",
    "score2 = metrics.accuracy_score(y_test, pred2)\n",
    "print(metrics.classification_report(y_validation, pred1))\n",
    "print(metrics.classification_report(y_test, pred2))"
   ]
  },
  {
   "cell_type": "code",
   "execution_count": 20,
   "metadata": {},
   "outputs": [
    {
     "name": "stdout",
     "output_type": "stream",
     "text": [
      "0.6090342679127726\n",
      "0.583008573655495\n"
     ]
    }
   ],
   "source": [
    "tfidf_scr_val = new_tfidf_clf.score(tfidf_validation, y_validation)\n",
    "tfidf_scr_test = new_tfidf_clf.score(tfidf_test, y_test)\n",
    "print(tfidf_scr_val)\n",
    "print(tfidf_scr_test)"
   ]
  },
  {
   "cell_type": "markdown",
   "metadata": {},
   "source": [
    "MNB"
   ]
  },
  {
   "cell_type": "code",
   "execution_count": 32,
   "metadata": {},
   "outputs": [
    {
     "name": "stderr",
     "output_type": "stream",
     "text": [
      "C:\\Users\\Dell\\Anaconda3\\lib\\site-packages\\sklearn\\utils\\validation.py:724: DataConversionWarning: A column-vector y was passed when a 1d array was expected. Please change the shape of y to (n_samples, ), for example using ravel().\n",
      "  y = column_or_1d(y, warn=True)\n"
     ]
    },
    {
     "name": "stdout",
     "output_type": "stream",
     "text": [
      "val_accuracy:   0.538\n",
      "test_accuracy:   0.574\n"
     ]
    }
   ],
   "source": [
    "classifier=MultinomialNB()\n",
    "classifier.fit(tfidf, y_train)\n",
    "pred1 = classifier.predict(tfidf_validation)\n",
    "pred2 = classifier.predict(tfidf_test)\n",
    "score1 = metrics.accuracy_score(y_validation, pred1)\n",
    "score2 = metrics.accuracy_score(y_test, pred2)\n",
    "print(\"val_accuracy:   %0.3f\" % score1)\n",
    "print(\"test_accuracy:   %0.3f\" % score2)"
   ]
  },
  {
   "cell_type": "code",
   "execution_count": null,
   "metadata": {},
   "outputs": [],
   "source": [
    "print(confusion_matrix(y_test,predictions))\n",
    "print(classification_report(y_test,predictions))\n",
    "print(accuracy_score(y_test, predictions))"
   ]
  },
  {
   "cell_type": "markdown",
   "metadata": {},
   "source": [
    "PAC"
   ]
  },
  {
   "cell_type": "code",
   "execution_count": 33,
   "metadata": {},
   "outputs": [
    {
     "name": "stderr",
     "output_type": "stream",
     "text": [
      "C:\\Users\\Dell\\Anaconda3\\lib\\site-packages\\sklearn\\utils\\validation.py:724: DataConversionWarning: A column-vector y was passed when a 1d array was expected. Please change the shape of y to (n_samples, ), for example using ravel().\n",
      "  y = column_or_1d(y, warn=True)\n"
     ]
    },
    {
     "name": "stdout",
     "output_type": "stream",
     "text": [
      "val_accuracy:   0.541\n",
      "test_accuracy:   0.532\n"
     ]
    }
   ],
   "source": [
    "linear_clf = PassiveAggressiveClassifier(n_iter_no_change=50)\n",
    "linear_clf.fit(tfidf, y_train)\n",
    "pred1 = linear_clf.predict(tfidf_validation)\n",
    "pred2 = linear_clf.predict(tfidf_test)\n",
    "score1 = metrics.accuracy_score(y_validation, pred1)\n",
    "score2 = metrics.accuracy_score(y_test, pred2)\n",
    "print(\"val_accuracy:   %0.3f\" % score1)\n",
    "print(\"test_accuracy:   %0.3f\" % score2)\n",
    "# cm = metrics.confusion_matrix(y_validation, pred)\n",
    "# plot_confusion_matrix(cm, classes=['FAKE Data', 'REAL Data'])"
   ]
  },
  {
   "cell_type": "markdown",
   "metadata": {},
   "source": [
    "SVM"
   ]
  },
  {
   "cell_type": "code",
   "execution_count": null,
   "metadata": {},
   "outputs": [
    {
     "name": "stderr",
     "output_type": "stream",
     "text": [
      "C:\\Users\\Dell\\Anaconda3\\lib\\site-packages\\sklearn\\utils\\validation.py:724: DataConversionWarning: A column-vector y was passed when a 1d array was expected. Please change the shape of y to (n_samples, ), for example using ravel().\n",
      "  y = column_or_1d(y, warn=True)\n",
      "C:\\Users\\Dell\\Anaconda3\\lib\\site-packages\\sklearn\\svm\\base.py:193: FutureWarning: The default value of gamma will change from 'auto' to 'scale' in version 0.22 to account better for unscaled features. Set gamma explicitly to 'auto' or 'scale' to avoid this warning.\n",
      "  \"avoid this warning.\", FutureWarning)\n"
     ]
    }
   ],
   "source": [
    "model = svm.SVC()\n",
    "model.fit(tfidf, y_train)\n",
    "pred1 = model.predict(tfidf_validation)\n",
    "pred2 = model.predict(tfidf_test)\n",
    "score1 = metrics.accuracy_score(y_validation, pred1)\n",
    "score2 = metrics.accuracy_score(y_test, pred2)\n",
    "print(\"val_accuracy:   %0.3f\" % score1)\n",
    "print(\"test_accuracy:   %0.3f\" % score2)"
   ]
  },
  {
   "cell_type": "markdown",
   "metadata": {},
   "source": [
    "CLAIM"
   ]
  },
  {
   "cell_type": "code",
   "execution_count": 21,
   "metadata": {},
   "outputs": [],
   "source": [
    "#tfidf for claim\n",
    "\n",
    "vectorizer = TfidfVectorizer()\n",
    "claim_tfidf = vectorizer.fit_transform(claim_train_corpus).toarray()\n",
    "claim_tfidf_validation = vectorizer.transform(claim_val_corpus).toarray()\n",
    "claim_tfidf_test = vectorizer.transform(claim_test_corpus).toarray()"
   ]
  },
  {
   "cell_type": "code",
   "execution_count": 3,
   "metadata": {
    "scrolled": true
   },
   "outputs": [],
   "source": [
    "#vectorizer.get_feature_names()"
   ]
  },
  {
   "cell_type": "code",
   "execution_count": 22,
   "metadata": {},
   "outputs": [
    {
     "name": "stdout",
     "output_type": "stream",
     "text": [
      "(10269, 9960)\n",
      "(1284, 9960)\n",
      "(1283, 9960)\n",
      "(10269, 1)\n"
     ]
    }
   ],
   "source": [
    "print(claim_tfidf.shape)\n",
    "print(claim_tfidf_validation.shape)\n",
    "print(claim_tfidf_test.shape)\n",
    "print(y_train.shape)"
   ]
  },
  {
   "cell_type": "markdown",
   "metadata": {},
   "source": [
    "Logistic Regression"
   ]
  },
  {
   "cell_type": "code",
   "execution_count": 23,
   "metadata": {},
   "outputs": [
    {
     "name": "stderr",
     "output_type": "stream",
     "text": [
      "C:\\Users\\Dell\\Anaconda3\\lib\\site-packages\\sklearn\\linear_model\\logistic.py:432: FutureWarning: Default solver will be changed to 'lbfgs' in 0.22. Specify a solver to silence this warning.\n",
      "  FutureWarning)\n",
      "C:\\Users\\Dell\\Anaconda3\\lib\\site-packages\\sklearn\\utils\\validation.py:724: DataConversionWarning: A column-vector y was passed when a 1d array was expected. Please change the shape of y to (n_samples, ), for example using ravel().\n",
      "  y = column_or_1d(y, warn=True)\n"
     ]
    },
    {
     "data": {
      "text/plain": [
       "LogisticRegression(C=1.0, class_weight=None, dual=False, fit_intercept=True,\n",
       "                   intercept_scaling=1, l1_ratio=None, max_iter=100,\n",
       "                   multi_class='warn', n_jobs=None, penalty='l2',\n",
       "                   random_state=None, solver='warn', tol=0.0001, verbose=0,\n",
       "                   warm_start=False)"
      ]
     },
     "execution_count": 23,
     "metadata": {},
     "output_type": "execute_result"
    }
   ],
   "source": [
    "claim_tfidf_clf = LogisticRegression()\n",
    "claim_tfidf_clf.fit(claim_tfidf, y_train)"
   ]
  },
  {
   "cell_type": "code",
   "execution_count": 25,
   "metadata": {},
   "outputs": [
    {
     "name": "stdout",
     "output_type": "stream",
     "text": [
      "0.6012461059190031\n",
      "0.6204208885424786\n"
     ]
    }
   ],
   "source": [
    "claim_tfidf_scr_val = claim_tfidf_clf.score(claim_tfidf_validation, y_validation)\n",
    "claim_tfidf_scr_test = claim_tfidf_clf.score(claim_tfidf_test, y_test)\n",
    "print(claim_tfidf_scr_val)\n",
    "print(claim_tfidf_scr_test)"
   ]
  },
  {
   "cell_type": "markdown",
   "metadata": {},
   "source": [
    "MNB"
   ]
  },
  {
   "cell_type": "code",
   "execution_count": 43,
   "metadata": {},
   "outputs": [
    {
     "name": "stderr",
     "output_type": "stream",
     "text": [
      "C:\\Users\\Dell\\Anaconda3\\lib\\site-packages\\sklearn\\utils\\validation.py:724: DataConversionWarning: A column-vector y was passed when a 1d array was expected. Please change the shape of y to (n_samples, ), for example using ravel().\n",
      "  y = column_or_1d(y, warn=True)\n"
     ]
    },
    {
     "name": "stdout",
     "output_type": "stream",
     "text": [
      "val_accuracy:   0.594\n",
      "test_accuracy:   0.610\n"
     ]
    }
   ],
   "source": [
    "classifier.fit(claim_tfidf, y_train)\n",
    "pred1 = classifier.predict(claim_tfidf_validation)\n",
    "pred2 = classifier.predict(claim_tfidf_test)\n",
    "score1 = metrics.accuracy_score(y_validation, pred1)\n",
    "score2 = metrics.accuracy_score(y_test, pred2)\n",
    "print(\"val_accuracy:   %0.3f\" % score1)\n",
    "print(\"test_accuracy:   %0.3f\" % score2)"
   ]
  },
  {
   "cell_type": "markdown",
   "metadata": {},
   "source": [
    "PAGG"
   ]
  },
  {
   "cell_type": "code",
   "execution_count": null,
   "metadata": {},
   "outputs": [],
   "source": [
    "linear_clf.fit(claim_tfidf, y_train)\n",
    "pred1 = linear_clf.predict(claim_tfidf_validation)\n",
    "pred2 = linear_clf.predict(claim_tfidf_test)\n",
    "score1 = metrics.accuracy_score(y_validation, pred1)\n",
    "score2 = metrics.accuracy_score(y_test, pred2)\n",
    "print(\"val_accuracy:   %0.3f\" % score1)\n",
    "print(\"test_accuracy:   %0.3f\" % score2)\n",
    "# cm = metrics.confusion_matrix(y_validation, pred)\n",
    "# plot_confusion_matrix(cm, classes=['FAKE Data', 'REAL Data'])"
   ]
  },
  {
   "cell_type": "markdown",
   "metadata": {},
   "source": [
    "SVM"
   ]
  },
  {
   "cell_type": "code",
   "execution_count": null,
   "metadata": {},
   "outputs": [],
   "source": [
    "model.fit(claim_tfidf, y_train)\n",
    "pred1 = model.predict(claim_tfidf_validation)\n",
    "pred2 = model.predict(claim_tfidf_test)\n",
    "score1 = metrics.accuracy_score(y_validation, pred1)\n",
    "score2 = metrics.accuracy_score(y_test, pred2)\n",
    "print(\"val_accuracy:   %0.3f\" % score1)\n",
    "print(\"test_accuracy:   %0.3f\" % score2)"
   ]
  },
  {
   "cell_type": "code",
   "execution_count": 32,
   "metadata": {},
   "outputs": [
    {
     "data": {
      "image/png": "[encoded data removed]",
      "text/plain": [
       "<Figure size 432x288 with 1 Axes>"
      ]
     },
     "metadata": {
      "needs_background": "light"
     },
     "output_type": "display_data"
    },
    {
     "data": {
      "text/plain": [
       "<matplotlib.axes._subplots.AxesSubplot at 0x192595cf320>"
      ]
     },
     "execution_count": 32,
     "metadata": {},
     "output_type": "execute_result"
    }
   ],
   "source": [
    "# This command display figures inline\n",
    "%matplotlib inline\n",
    "\n",
    "# Creating the word frequency distribution\n",
    "words = word_tokenize(str(train_corpus))\n",
    "fdist = FreqDist(words)\n",
    "\n",
    "# Plotting the word frequency distribution\n",
    "fdist.plot(25)"
   ]
  },
  {
   "cell_type": "code",
   "execution_count": 49,
   "metadata": {},
   "outputs": [
    {
     "name": "stdout",
     "output_type": "stream",
     "text": [
      "Collecting vaderSentiment\n",
      "  Downloading https://files.pythonhosted.org/packages/76/fc/310e16254683c1ed35eeb97386986d6c00bc29df17ce280aed64d55537e9/vaderSentiment-3.3.2-py2.py3-none-any.whl (125kB)\n",
      "Requirement already satisfied: requests in c:\\users\\dell\\anaconda3\\lib\\site-packages (from vaderSentiment) (2.22.0)\n",
      "Requirement already satisfied: chardet<3.1.0,>=3.0.2 in c:\\users\\dell\\anaconda3\\lib\\site-packages (from requests->vaderSentiment) (3.0.4)\n",
      "Requirement already satisfied: idna<2.9,>=2.5 in c:\\users\\dell\\anaconda3\\lib\\site-packages (from requests->vaderSentiment) (2.8)\n",
      "Requirement already satisfied: certifi>=2017.4.17 in c:\\users\\dell\\anaconda3\\lib\\site-packages (from requests->vaderSentiment) (2019.11.28)\n",
      "Requirement already satisfied: urllib3!=1.25.0,!=1.25.1,<1.26,>=1.21.1 in c:\\users\\dell\\anaconda3\\lib\\site-packages (from requests->vaderSentiment) (1.24.2)\n",
      "Installing collected packages: vaderSentiment\n",
      "Successfully installed vaderSentiment-3.3.2\n",
      "Note: you may need to restart the kernel to use updated packages.\n"
     ]
    }
   ],
   "source": [
    "pip install vaderSentiment"
   ]
  },
  {
   "cell_type": "code",
   "execution_count": 50,
   "metadata": {},
   "outputs": [],
   "source": [
    "import nltk\n",
    "from vaderSentiment.vaderSentiment import SentimentIntensityAnalyzer"
   ]
  },
  {
   "cell_type": "code",
   "execution_count": 51,
   "metadata": {},
   "outputs": [
    {
     "data": {
      "text/html": [
       "<div>\n",
       "<style scoped>\n",
       "    .dataframe tbody tr th:only-of-type {\n",
       "        vertical-align: middle;\n",
       "    }\n",
       "\n",
       "    .dataframe tbody tr th {\n",
       "        vertical-align: top;\n",
       "    }\n",
       "\n",
       "    .dataframe thead th {\n",
       "        text-align: right;\n",
       "    }\n",
       "</style>\n",
       "<table border=\"1\" class=\"dataframe\">\n",
       "  <thead>\n",
       "    <tr style=\"text-align: right;\">\n",
       "      <th></th>\n",
       "      <th>compound</th>\n",
       "      <th>neg</th>\n",
       "      <th>neu</th>\n",
       "      <th>pos</th>\n",
       "    </tr>\n",
       "  </thead>\n",
       "  <tbody>\n",
       "    <tr>\n",
       "      <th>0</th>\n",
       "      <td>0.1779</td>\n",
       "      <td>0.166</td>\n",
       "      <td>0.649</td>\n",
       "      <td>0.184</td>\n",
       "    </tr>\n",
       "    <tr>\n",
       "      <th>1</th>\n",
       "      <td>0.9577</td>\n",
       "      <td>0.052</td>\n",
       "      <td>0.658</td>\n",
       "      <td>0.289</td>\n",
       "    </tr>\n",
       "    <tr>\n",
       "      <th>2</th>\n",
       "      <td>0.6249</td>\n",
       "      <td>0.123</td>\n",
       "      <td>0.667</td>\n",
       "      <td>0.210</td>\n",
       "    </tr>\n",
       "    <tr>\n",
       "      <th>3</th>\n",
       "      <td>0.7345</td>\n",
       "      <td>0.112</td>\n",
       "      <td>0.716</td>\n",
       "      <td>0.172</td>\n",
       "    </tr>\n",
       "    <tr>\n",
       "      <th>4</th>\n",
       "      <td>0.8012</td>\n",
       "      <td>0.039</td>\n",
       "      <td>0.798</td>\n",
       "      <td>0.163</td>\n",
       "    </tr>\n",
       "    <tr>\n",
       "      <th>5</th>\n",
       "      <td>-0.9261</td>\n",
       "      <td>0.221</td>\n",
       "      <td>0.735</td>\n",
       "      <td>0.044</td>\n",
       "    </tr>\n",
       "    <tr>\n",
       "      <th>6</th>\n",
       "      <td>0.4019</td>\n",
       "      <td>0.000</td>\n",
       "      <td>0.883</td>\n",
       "      <td>0.117</td>\n",
       "    </tr>\n",
       "    <tr>\n",
       "      <th>7</th>\n",
       "      <td>0.7430</td>\n",
       "      <td>0.021</td>\n",
       "      <td>0.856</td>\n",
       "      <td>0.123</td>\n",
       "    </tr>\n",
       "    <tr>\n",
       "      <th>8</th>\n",
       "      <td>0.7964</td>\n",
       "      <td>0.000</td>\n",
       "      <td>0.835</td>\n",
       "      <td>0.165</td>\n",
       "    </tr>\n",
       "    <tr>\n",
       "      <th>9</th>\n",
       "      <td>0.0000</td>\n",
       "      <td>0.000</td>\n",
       "      <td>1.000</td>\n",
       "      <td>0.000</td>\n",
       "    </tr>\n",
       "    <tr>\n",
       "      <th>10</th>\n",
       "      <td>0.9612</td>\n",
       "      <td>0.000</td>\n",
       "      <td>0.681</td>\n",
       "      <td>0.319</td>\n",
       "    </tr>\n",
       "    <tr>\n",
       "      <th>11</th>\n",
       "      <td>-0.8910</td>\n",
       "      <td>0.245</td>\n",
       "      <td>0.653</td>\n",
       "      <td>0.102</td>\n",
       "    </tr>\n",
       "    <tr>\n",
       "      <th>12</th>\n",
       "      <td>-0.5080</td>\n",
       "      <td>0.322</td>\n",
       "      <td>0.678</td>\n",
       "      <td>0.000</td>\n",
       "    </tr>\n",
       "    <tr>\n",
       "      <th>13</th>\n",
       "      <td>0.5106</td>\n",
       "      <td>0.113</td>\n",
       "      <td>0.713</td>\n",
       "      <td>0.173</td>\n",
       "    </tr>\n",
       "    <tr>\n",
       "      <th>14</th>\n",
       "      <td>-0.4767</td>\n",
       "      <td>0.170</td>\n",
       "      <td>0.695</td>\n",
       "      <td>0.136</td>\n",
       "    </tr>\n",
       "    <tr>\n",
       "      <th>15</th>\n",
       "      <td>-0.7884</td>\n",
       "      <td>0.161</td>\n",
       "      <td>0.816</td>\n",
       "      <td>0.023</td>\n",
       "    </tr>\n",
       "    <tr>\n",
       "      <th>16</th>\n",
       "      <td>0.2023</td>\n",
       "      <td>0.125</td>\n",
       "      <td>0.736</td>\n",
       "      <td>0.139</td>\n",
       "    </tr>\n",
       "    <tr>\n",
       "      <th>17</th>\n",
       "      <td>0.7003</td>\n",
       "      <td>0.131</td>\n",
       "      <td>0.571</td>\n",
       "      <td>0.297</td>\n",
       "    </tr>\n",
       "    <tr>\n",
       "      <th>18</th>\n",
       "      <td>0.7269</td>\n",
       "      <td>0.028</td>\n",
       "      <td>0.848</td>\n",
       "      <td>0.124</td>\n",
       "    </tr>\n",
       "    <tr>\n",
       "      <th>19</th>\n",
       "      <td>0.9217</td>\n",
       "      <td>0.020</td>\n",
       "      <td>0.734</td>\n",
       "      <td>0.246</td>\n",
       "    </tr>\n",
       "    <tr>\n",
       "      <th>20</th>\n",
       "      <td>0.0000</td>\n",
       "      <td>0.000</td>\n",
       "      <td>1.000</td>\n",
       "      <td>0.000</td>\n",
       "    </tr>\n",
       "    <tr>\n",
       "      <th>21</th>\n",
       "      <td>0.9393</td>\n",
       "      <td>0.033</td>\n",
       "      <td>0.697</td>\n",
       "      <td>0.270</td>\n",
       "    </tr>\n",
       "    <tr>\n",
       "      <th>22</th>\n",
       "      <td>0.8555</td>\n",
       "      <td>0.000</td>\n",
       "      <td>0.588</td>\n",
       "      <td>0.412</td>\n",
       "    </tr>\n",
       "    <tr>\n",
       "      <th>23</th>\n",
       "      <td>0.8074</td>\n",
       "      <td>0.079</td>\n",
       "      <td>0.632</td>\n",
       "      <td>0.289</td>\n",
       "    </tr>\n",
       "    <tr>\n",
       "      <th>24</th>\n",
       "      <td>0.0772</td>\n",
       "      <td>0.032</td>\n",
       "      <td>0.891</td>\n",
       "      <td>0.077</td>\n",
       "    </tr>\n",
       "    <tr>\n",
       "      <th>25</th>\n",
       "      <td>0.0000</td>\n",
       "      <td>0.000</td>\n",
       "      <td>1.000</td>\n",
       "      <td>0.000</td>\n",
       "    </tr>\n",
       "    <tr>\n",
       "      <th>26</th>\n",
       "      <td>-0.9460</td>\n",
       "      <td>0.309</td>\n",
       "      <td>0.635</td>\n",
       "      <td>0.056</td>\n",
       "    </tr>\n",
       "    <tr>\n",
       "      <th>27</th>\n",
       "      <td>0.9240</td>\n",
       "      <td>0.000</td>\n",
       "      <td>0.775</td>\n",
       "      <td>0.225</td>\n",
       "    </tr>\n",
       "    <tr>\n",
       "      <th>28</th>\n",
       "      <td>0.5267</td>\n",
       "      <td>0.000</td>\n",
       "      <td>0.761</td>\n",
       "      <td>0.239</td>\n",
       "    </tr>\n",
       "    <tr>\n",
       "      <th>29</th>\n",
       "      <td>0.2263</td>\n",
       "      <td>0.105</td>\n",
       "      <td>0.739</td>\n",
       "      <td>0.157</td>\n",
       "    </tr>\n",
       "    <tr>\n",
       "      <th>...</th>\n",
       "      <td>...</td>\n",
       "      <td>...</td>\n",
       "      <td>...</td>\n",
       "      <td>...</td>\n",
       "    </tr>\n",
       "    <tr>\n",
       "      <th>10239</th>\n",
       "      <td>0.8344</td>\n",
       "      <td>0.144</td>\n",
       "      <td>0.541</td>\n",
       "      <td>0.315</td>\n",
       "    </tr>\n",
       "    <tr>\n",
       "      <th>10240</th>\n",
       "      <td>0.9231</td>\n",
       "      <td>0.039</td>\n",
       "      <td>0.700</td>\n",
       "      <td>0.261</td>\n",
       "    </tr>\n",
       "    <tr>\n",
       "      <th>10241</th>\n",
       "      <td>0.2263</td>\n",
       "      <td>0.000</td>\n",
       "      <td>0.958</td>\n",
       "      <td>0.042</td>\n",
       "    </tr>\n",
       "    <tr>\n",
       "      <th>10242</th>\n",
       "      <td>0.4576</td>\n",
       "      <td>0.025</td>\n",
       "      <td>0.880</td>\n",
       "      <td>0.095</td>\n",
       "    </tr>\n",
       "    <tr>\n",
       "      <th>10243</th>\n",
       "      <td>0.2500</td>\n",
       "      <td>0.096</td>\n",
       "      <td>0.764</td>\n",
       "      <td>0.140</td>\n",
       "    </tr>\n",
       "    <tr>\n",
       "      <th>10244</th>\n",
       "      <td>-0.5542</td>\n",
       "      <td>0.082</td>\n",
       "      <td>0.918</td>\n",
       "      <td>0.000</td>\n",
       "    </tr>\n",
       "    <tr>\n",
       "      <th>10245</th>\n",
       "      <td>-0.2023</td>\n",
       "      <td>0.048</td>\n",
       "      <td>0.920</td>\n",
       "      <td>0.032</td>\n",
       "    </tr>\n",
       "    <tr>\n",
       "      <th>10246</th>\n",
       "      <td>0.5994</td>\n",
       "      <td>0.040</td>\n",
       "      <td>0.839</td>\n",
       "      <td>0.122</td>\n",
       "    </tr>\n",
       "    <tr>\n",
       "      <th>10247</th>\n",
       "      <td>0.2500</td>\n",
       "      <td>0.063</td>\n",
       "      <td>0.847</td>\n",
       "      <td>0.090</td>\n",
       "    </tr>\n",
       "    <tr>\n",
       "      <th>10248</th>\n",
       "      <td>0.2732</td>\n",
       "      <td>0.038</td>\n",
       "      <td>0.902</td>\n",
       "      <td>0.060</td>\n",
       "    </tr>\n",
       "    <tr>\n",
       "      <th>10249</th>\n",
       "      <td>0.9100</td>\n",
       "      <td>0.000</td>\n",
       "      <td>0.775</td>\n",
       "      <td>0.225</td>\n",
       "    </tr>\n",
       "    <tr>\n",
       "      <th>10250</th>\n",
       "      <td>0.9260</td>\n",
       "      <td>0.041</td>\n",
       "      <td>0.638</td>\n",
       "      <td>0.321</td>\n",
       "    </tr>\n",
       "    <tr>\n",
       "      <th>10251</th>\n",
       "      <td>-0.4588</td>\n",
       "      <td>0.098</td>\n",
       "      <td>0.836</td>\n",
       "      <td>0.066</td>\n",
       "    </tr>\n",
       "    <tr>\n",
       "      <th>10252</th>\n",
       "      <td>0.5267</td>\n",
       "      <td>0.000</td>\n",
       "      <td>0.839</td>\n",
       "      <td>0.161</td>\n",
       "    </tr>\n",
       "    <tr>\n",
       "      <th>10253</th>\n",
       "      <td>0.8020</td>\n",
       "      <td>0.000</td>\n",
       "      <td>0.765</td>\n",
       "      <td>0.235</td>\n",
       "    </tr>\n",
       "    <tr>\n",
       "      <th>10254</th>\n",
       "      <td>0.4939</td>\n",
       "      <td>0.143</td>\n",
       "      <td>0.652</td>\n",
       "      <td>0.204</td>\n",
       "    </tr>\n",
       "    <tr>\n",
       "      <th>10255</th>\n",
       "      <td>0.5574</td>\n",
       "      <td>0.000</td>\n",
       "      <td>0.870</td>\n",
       "      <td>0.130</td>\n",
       "    </tr>\n",
       "    <tr>\n",
       "      <th>10256</th>\n",
       "      <td>-0.5574</td>\n",
       "      <td>0.202</td>\n",
       "      <td>0.719</td>\n",
       "      <td>0.079</td>\n",
       "    </tr>\n",
       "    <tr>\n",
       "      <th>10257</th>\n",
       "      <td>0.7430</td>\n",
       "      <td>0.060</td>\n",
       "      <td>0.810</td>\n",
       "      <td>0.129</td>\n",
       "    </tr>\n",
       "    <tr>\n",
       "      <th>10258</th>\n",
       "      <td>-0.7650</td>\n",
       "      <td>0.122</td>\n",
       "      <td>0.858</td>\n",
       "      <td>0.020</td>\n",
       "    </tr>\n",
       "    <tr>\n",
       "      <th>10259</th>\n",
       "      <td>0.7184</td>\n",
       "      <td>0.089</td>\n",
       "      <td>0.756</td>\n",
       "      <td>0.155</td>\n",
       "    </tr>\n",
       "    <tr>\n",
       "      <th>10260</th>\n",
       "      <td>-0.7435</td>\n",
       "      <td>0.191</td>\n",
       "      <td>0.731</td>\n",
       "      <td>0.078</td>\n",
       "    </tr>\n",
       "    <tr>\n",
       "      <th>10261</th>\n",
       "      <td>0.9392</td>\n",
       "      <td>0.030</td>\n",
       "      <td>0.763</td>\n",
       "      <td>0.207</td>\n",
       "    </tr>\n",
       "    <tr>\n",
       "      <th>10262</th>\n",
       "      <td>-0.9729</td>\n",
       "      <td>0.304</td>\n",
       "      <td>0.639</td>\n",
       "      <td>0.057</td>\n",
       "    </tr>\n",
       "    <tr>\n",
       "      <th>10263</th>\n",
       "      <td>0.9062</td>\n",
       "      <td>0.000</td>\n",
       "      <td>0.853</td>\n",
       "      <td>0.147</td>\n",
       "    </tr>\n",
       "    <tr>\n",
       "      <th>10264</th>\n",
       "      <td>-0.7783</td>\n",
       "      <td>0.338</td>\n",
       "      <td>0.528</td>\n",
       "      <td>0.134</td>\n",
       "    </tr>\n",
       "    <tr>\n",
       "      <th>10265</th>\n",
       "      <td>-0.2500</td>\n",
       "      <td>0.170</td>\n",
       "      <td>0.682</td>\n",
       "      <td>0.148</td>\n",
       "    </tr>\n",
       "    <tr>\n",
       "      <th>10266</th>\n",
       "      <td>0.9246</td>\n",
       "      <td>0.000</td>\n",
       "      <td>0.675</td>\n",
       "      <td>0.325</td>\n",
       "    </tr>\n",
       "    <tr>\n",
       "      <th>10267</th>\n",
       "      <td>0.8817</td>\n",
       "      <td>0.000</td>\n",
       "      <td>0.813</td>\n",
       "      <td>0.187</td>\n",
       "    </tr>\n",
       "    <tr>\n",
       "      <th>10268</th>\n",
       "      <td>0.9134</td>\n",
       "      <td>0.070</td>\n",
       "      <td>0.618</td>\n",
       "      <td>0.312</td>\n",
       "    </tr>\n",
       "  </tbody>\n",
       "</table>\n",
       "<p>10269 rows × 4 columns</p>\n",
       "</div>"
      ],
      "text/plain": [
       "       compound    neg    neu    pos\n",
       "0        0.1779  0.166  0.649  0.184\n",
       "1        0.9577  0.052  0.658  0.289\n",
       "2        0.6249  0.123  0.667  0.210\n",
       "3        0.7345  0.112  0.716  0.172\n",
       "4        0.8012  0.039  0.798  0.163\n",
       "5       -0.9261  0.221  0.735  0.044\n",
       "6        0.4019  0.000  0.883  0.117\n",
       "7        0.7430  0.021  0.856  0.123\n",
       "8        0.7964  0.000  0.835  0.165\n",
       "9        0.0000  0.000  1.000  0.000\n",
       "10       0.9612  0.000  0.681  0.319\n",
       "11      -0.8910  0.245  0.653  0.102\n",
       "12      -0.5080  0.322  0.678  0.000\n",
       "13       0.5106  0.113  0.713  0.173\n",
       "14      -0.4767  0.170  0.695  0.136\n",
       "15      -0.7884  0.161  0.816  0.023\n",
       "16       0.2023  0.125  0.736  0.139\n",
       "17       0.7003  0.131  0.571  0.297\n",
       "18       0.7269  0.028  0.848  0.124\n",
       "19       0.9217  0.020  0.734  0.246\n",
       "20       0.0000  0.000  1.000  0.000\n",
       "21       0.9393  0.033  0.697  0.270\n",
       "22       0.8555  0.000  0.588  0.412\n",
       "23       0.8074  0.079  0.632  0.289\n",
       "24       0.0772  0.032  0.891  0.077\n",
       "25       0.0000  0.000  1.000  0.000\n",
       "26      -0.9460  0.309  0.635  0.056\n",
       "27       0.9240  0.000  0.775  0.225\n",
       "28       0.5267  0.000  0.761  0.239\n",
       "29       0.2263  0.105  0.739  0.157\n",
       "...         ...    ...    ...    ...\n",
       "10239    0.8344  0.144  0.541  0.315\n",
       "10240    0.9231  0.039  0.700  0.261\n",
       "10241    0.2263  0.000  0.958  0.042\n",
       "10242    0.4576  0.025  0.880  0.095\n",
       "10243    0.2500  0.096  0.764  0.140\n",
       "10244   -0.5542  0.082  0.918  0.000\n",
       "10245   -0.2023  0.048  0.920  0.032\n",
       "10246    0.5994  0.040  0.839  0.122\n",
       "10247    0.2500  0.063  0.847  0.090\n",
       "10248    0.2732  0.038  0.902  0.060\n",
       "10249    0.9100  0.000  0.775  0.225\n",
       "10250    0.9260  0.041  0.638  0.321\n",
       "10251   -0.4588  0.098  0.836  0.066\n",
       "10252    0.5267  0.000  0.839  0.161\n",
       "10253    0.8020  0.000  0.765  0.235\n",
       "10254    0.4939  0.143  0.652  0.204\n",
       "10255    0.5574  0.000  0.870  0.130\n",
       "10256   -0.5574  0.202  0.719  0.079\n",
       "10257    0.7430  0.060  0.810  0.129\n",
       "10258   -0.7650  0.122  0.858  0.020\n",
       "10259    0.7184  0.089  0.756  0.155\n",
       "10260   -0.7435  0.191  0.731  0.078\n",
       "10261    0.9392  0.030  0.763  0.207\n",
       "10262   -0.9729  0.304  0.639  0.057\n",
       "10263    0.9062  0.000  0.853  0.147\n",
       "10264   -0.7783  0.338  0.528  0.134\n",
       "10265   -0.2500  0.170  0.682  0.148\n",
       "10266    0.9246  0.000  0.675  0.325\n",
       "10267    0.8817  0.000  0.813  0.187\n",
       "10268    0.9134  0.070  0.618  0.312\n",
       "\n",
       "[10269 rows x 4 columns]"
      ]
     },
     "execution_count": 51,
     "metadata": {},
     "output_type": "execute_result"
    }
   ],
   "source": [
    "analyzer = SentimentIntensityAnalyzer()\n",
    "\n",
    "sentiments_list = list()\n",
    "\n",
    "for sentence in train_corpus:\n",
    "    sentence_list = nltk.sent_tokenize(sentence)\n",
    "    sentiments = {'compound': 0.0, 'neg': 0.0, 'neu': 0.0, 'pos': 0.0}\n",
    "        \n",
    "    for sentence in sentence_list:\n",
    "        vs = analyzer.polarity_scores(sentence)\n",
    "        sentiments['compound'] += vs['compound']\n",
    "        sentiments['neg'] += vs['neg']\n",
    "        sentiments['neu'] += vs['neu']\n",
    "        sentiments['pos'] += vs['pos']\n",
    "            \n",
    "    sentiments['compound'] = sentiments['compound'] / len(sentence_list)\n",
    "    sentiments['neg'] = sentiments['neg'] / len(sentence_list)\n",
    "    sentiments['neu'] = sentiments['neu'] / len(sentence_list)\n",
    "    sentiments['pos'] = sentiments['pos'] / len(sentence_list)\n",
    "    \n",
    "    sentiments_list.append(sentiments)  \n",
    "\n",
    "data4 = pd.DataFrame(sentiments_list)  \n",
    "data4"
   ]
  },
  {
   "cell_type": "code",
   "execution_count": null,
   "metadata": {},
   "outputs": [],
   "source": []
  },
  {
   "cell_type": "code",
   "execution_count": null,
   "metadata": {},
   "outputs": [],
   "source": []
  },
  {
   "cell_type": "code",
   "execution_count": null,
   "metadata": {},
   "outputs": [],
   "source": []
  },
  {
   "cell_type": "code",
   "execution_count": null,
   "metadata": {},
   "outputs": [],
   "source": []
  },
  {
   "cell_type": "code",
   "execution_count": null,
   "metadata": {},
   "outputs": [],
   "source": []
  }
 ],
 "metadata": {
  "kernelspec": {
   "display_name": "Python 3",
   "language": "python",
   "name": "python3"
  },
  "language_info": {
   "codemirror_mode": {
    "name": "ipython",
    "version": 3
   },
   "file_extension": ".py",
   "mimetype": "text/x-python",
   "name": "python",
   "nbconvert_exporter": "python",
   "pygments_lexer": "ipython3",
   "version": "3.7.3"
  }
 },
 "nbformat": 4,
 "nbformat_minor": 2
}
